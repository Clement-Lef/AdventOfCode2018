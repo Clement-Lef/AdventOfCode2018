{
 "cells": [
  {
   "cell_type": "markdown",
   "metadata": {},
   "source": [
    "# Part 1 & 2"
   ]
  },
  {
   "cell_type": "code",
   "execution_count": 1,
   "metadata": {},
   "outputs": [],
   "source": [
    "import numpy as np"
   ]
  },
  {
   "cell_type": "code",
   "execution_count": 2,
   "metadata": {},
   "outputs": [],
   "source": [
    "filename = 'input.txt'\n",
    "with open(filename) as f:\n",
    "    data = f.readlines()\n",
    "f.close()\n",
    "for n,line in enumerate(data):\n",
    "    data[n] = line.rstrip()"
   ]
  },
  {
   "cell_type": "code",
   "execution_count": 3,
   "metadata": {},
   "outputs": [
    {
     "data": {
      "text/plain": [
       "(123, 3, 2, 5, 4)"
      ]
     },
     "execution_count": 3,
     "metadata": {},
     "output_type": "execute_result"
    }
   ],
   "source": [
    "def read_claim(claim):\n",
    "    splitted_claim = claim.split(' ')\n",
    "    claim_id = int(splitted_claim[0].split('#')[1])\n",
    "    claim_l = int(splitted_claim[2].split(',')[0])\n",
    "    claim_t = int(splitted_claim[2].split(',')[1].split(':')[0])\n",
    "    claim_w = int(splitted_claim[3].split('x')[0])\n",
    "    claim_h = int(splitted_claim[3].split('x')[1])\n",
    "    \n",
    "    return (claim_id, claim_l, claim_t, claim_w, claim_h)\n",
    "\n",
    "read_claim('#123 @ 3,2: 5x4')"
   ]
  },
  {
   "cell_type": "code",
   "execution_count": 4,
   "metadata": {},
   "outputs": [
    {
     "data": {
      "text/plain": [
       "[[[0], [0], [0], [0], [0], [0], [0], [0]],\n",
       " [[0], [0], [0], [1, 2], [1, 2], [1, 2], [1, 2], [0]],\n",
       " [[0], [0], [0], [1, 2], [1, 2], [1, 2], [1, 2], [0]],\n",
       " [[0], [1, 1], [1, 1], [2, 1, 2], [2, 1, 2], [1, 2], [1, 2], [0]],\n",
       " [[0], [1, 1], [1, 1], [2, 1, 2], [2, 1, 2], [1, 2], [1, 2], [0]],\n",
       " [[0], [1, 1], [1, 1], [1, 1], [1, 1], [1, 3], [1, 3], [0]],\n",
       " [[0], [1, 1], [1, 1], [1, 1], [1, 1], [1, 3], [1, 3], [0]],\n",
       " [[0], [0], [0], [0], [0], [0], [0], [0]]]"
      ]
     },
     "execution_count": 4,
     "metadata": {},
     "output_type": "execute_result"
    }
   ],
   "source": [
    "tmp = dict()\n",
    "\n",
    "def fill_grid(grid, claim, dico):\n",
    "    ind_1 = list(range(claim[1],claim[1]+claim[3]))\n",
    "    ind_2 = list(range(claim[2],claim[2]+claim[4]))\n",
    "    \n",
    "    for ind_c in ind_1:\n",
    "        for ind_r in ind_2:\n",
    "            \n",
    "\n",
    "            \n",
    "\n",
    "            \n",
    "            grid[ind_r][ind_c][0] = grid[ind_r][ind_c][0] + 1\n",
    "            grid[ind_r][ind_c].append(claim[0])\n",
    "    \n",
    "            if len(grid[ind_r][ind_c]) > 2:\n",
    "                for each in grid[ind_r][ind_c][1:]:\n",
    "                    if dico.setdefault(each,0) == 0:\n",
    "                        dico[each] = dico[each] + 1\n",
    "                    else:\n",
    "                        dico[each] = dico[each] + 1\n",
    "    return grid\n",
    "\n",
    "\n",
    "grid = [[[0] for i in range(8)] for j in range(8)]\n",
    "\n",
    "\n",
    "fill_grid(grid, read_claim('#1 @ 1,3: 4x4'),tmp)\n",
    "fill_grid(grid, read_claim('#2 @ 3,1: 4x4'),tmp)\n",
    "fill_grid(grid, read_claim('#3 @ 5,5: 2x2'),tmp)\n",
    "\n",
    "grid\n"
   ]
  },
  {
   "cell_type": "code",
   "execution_count": 5,
   "metadata": {},
   "outputs": [],
   "source": [
    "tmp = dict()\n",
    "grid = [[[0] for i in range(1000)] for j in range(1000)]\n",
    "\n",
    "for each in data:\n",
    "    fill_grid(grid, read_claim(each),tmp)"
   ]
  },
  {
   "cell_type": "code",
   "execution_count": 6,
   "metadata": {},
   "outputs": [],
   "source": [
    "duplicate = 0\n",
    "for row in grid:\n",
    "    for item in row:\n",
    "        if item[0] > 1:\n",
    "            duplicate += 1"
   ]
  },
  {
   "cell_type": "code",
   "execution_count": 7,
   "metadata": {},
   "outputs": [
    {
     "data": {
      "text/plain": [
       "113716"
      ]
     },
     "execution_count": 7,
     "metadata": {},
     "output_type": "execute_result"
    }
   ],
   "source": [
    "duplicate"
   ]
  },
  {
   "cell_type": "code",
   "execution_count": 8,
   "metadata": {},
   "outputs": [],
   "source": [
    "list_keys = list(tmp.keys())\n",
    "list_id = list(range(len(data)))\n"
   ]
  },
  {
   "cell_type": "code",
   "execution_count": 9,
   "metadata": {},
   "outputs": [
    {
     "name": "stdout",
     "output_type": "stream",
     "text": [
      "742\n"
     ]
    }
   ],
   "source": [
    "unique_patch = np.setdiff1d(list_id,list_keys)\n",
    "print(unique_patch[1])"
   ]
  },
  {
   "cell_type": "code",
   "execution_count": null,
   "metadata": {},
   "outputs": [],
   "source": []
  }
 ],
 "metadata": {
  "kernelspec": {
   "display_name": "Python 3",
   "language": "python",
   "name": "python3"
  },
  "language_info": {
   "codemirror_mode": {
    "name": "ipython",
    "version": 3
   },
   "file_extension": ".py",
   "mimetype": "text/x-python",
   "name": "python",
   "nbconvert_exporter": "python",
   "pygments_lexer": "ipython3",
   "version": "3.6.5"
  }
 },
 "nbformat": 4,
 "nbformat_minor": 2
}
