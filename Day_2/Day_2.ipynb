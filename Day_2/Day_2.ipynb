{
 "cells": [
  {
   "cell_type": "markdown",
   "metadata": {},
   "source": [
    "# Part 1"
   ]
  },
  {
   "cell_type": "code",
   "execution_count": 37,
   "metadata": {},
   "outputs": [],
   "source": [
    "filename = 'input.txt'\n",
    "with open(filename) as f:\n",
    "    data = f.readlines()\n",
    "f.close()\n",
    "for n,line in enumerate(data):\n",
    "    data[n] = line.rstrip()"
   ]
  },
  {
   "cell_type": "code",
   "execution_count": 38,
   "metadata": {},
   "outputs": [],
   "source": [
    "import collections\n",
    "\n",
    "def count_one_string(string):\n",
    "    d = collections.defaultdict(int)\n",
    "    for c in string:\n",
    "        d[c] += 1\n",
    "\n",
    "    double = 0\n",
    "    triple = 0\n",
    "    is_double = False\n",
    "    is_triple = False\n",
    "    for c in d.values():\n",
    "        if c == 2 and is_double == False:\n",
    "            double += 1\n",
    "            is_double = True\n",
    "        if c == 3 and is_triple == False:\n",
    "            triple += 1\n",
    "            is_triple = True\n",
    "            \n",
    "    return (double, triple)"
   ]
  },
  {
   "cell_type": "code",
   "execution_count": 39,
   "metadata": {},
   "outputs": [
    {
     "name": "stdout",
     "output_type": "stream",
     "text": [
      "checksum: 3952\n"
     ]
    }
   ],
   "source": [
    "all_double = 0\n",
    "all_triple = 0\n",
    "for each in data:\n",
    "    tmp_double, tmp_triple = count_one_string(each)\n",
    "    all_double += tmp_double\n",
    "    all_triple += tmp_triple\n",
    "checksum = all_double*all_triple\n",
    "print('checksum: ' + str(checksum))"
   ]
  },
  {
   "cell_type": "markdown",
   "metadata": {},
   "source": [
    "# Part 2"
   ]
  },
  {
   "cell_type": "code",
   "execution_count": 40,
   "metadata": {},
   "outputs": [
    {
     "data": {
      "text/plain": [
       "'vtnihorkulbfvjcyzmsjgdxplw'"
      ]
     },
     "execution_count": 40,
     "metadata": {},
     "output_type": "execute_result"
    }
   ],
   "source": [
    "data[0]"
   ]
  },
  {
   "cell_type": "code",
   "execution_count": 41,
   "metadata": {},
   "outputs": [
    {
     "data": {
      "text/plain": [
       "'vtnihorvujbfejcyzmsqgdlpaw'"
      ]
     },
     "execution_count": 41,
     "metadata": {},
     "output_type": "execute_result"
    }
   ],
   "source": [
    "data[1]"
   ]
  },
  {
   "cell_type": "code",
   "execution_count": 42,
   "metadata": {},
   "outputs": [],
   "source": [
    "def match(s1, s2):\n",
    "    ok = False\n",
    "\n",
    "    for c1, c2 in zip(s1, s2):\n",
    "        if c1 != c2:\n",
    "            if ok:\n",
    "                return False\n",
    "            else:\n",
    "                ok = True\n",
    "\n",
    "    return ok"
   ]
  },
  {
   "cell_type": "code",
   "execution_count": 43,
   "metadata": {},
   "outputs": [
    {
     "name": "stdout",
     "output_type": "stream",
     "text": [
      "76\n",
      "154\n",
      "154\n",
      "76\n"
     ]
    }
   ],
   "source": [
    "test = False\n",
    "for i,each_1 in enumerate(data):\n",
    "    for n,each_2 in enumerate(data):\n",
    "        if i != n:\n",
    "            test = match(each_1,each_2)\n",
    "            if test == True:\n",
    "                print(i)\n",
    "                print(n)"
   ]
  },
  {
   "cell_type": "code",
   "execution_count": 44,
   "metadata": {},
   "outputs": [
    {
     "data": {
      "text/plain": [
       "'vtnikorkulbfejvyzmnqgdxpaw'"
      ]
     },
     "execution_count": 44,
     "metadata": {},
     "output_type": "execute_result"
    }
   ],
   "source": [
    "data[76]"
   ]
  },
  {
   "cell_type": "code",
   "execution_count": null,
   "metadata": {},
   "outputs": [],
   "source": [
    "data[]"
   ]
  }
 ],
 "metadata": {
  "kernelspec": {
   "display_name": "Python 3",
   "language": "python",
   "name": "python3"
  },
  "language_info": {
   "codemirror_mode": {
    "name": "ipython",
    "version": 3
   },
   "file_extension": ".py",
   "mimetype": "text/x-python",
   "name": "python",
   "nbconvert_exporter": "python",
   "pygments_lexer": "ipython3",
   "version": "3.6.5"
  }
 },
 "nbformat": 4,
 "nbformat_minor": 2
}
